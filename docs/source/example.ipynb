{
 "cells": [
  {
   "cell_type": "markdown",
   "metadata": {},
   "source": [
    "# Coarse-grain a simple transition matrix\n",
    "\n",
    "To illustrate the application of *pyGPCCA* we will coarse-grain a simple transition matrix *P* calculated from a toy adjacency matrix *W* found in *[S. Roeblitz and M. Weber, Fuzzy spectral clustering by PCCA+: application to Markov state models and data classification. Adv Data Anal Classif 7, 147-179 (2013)](https://doi.org/10.1007/s11634-013-0134-6)*. "
   ]
  },
  {
   "cell_type": "markdown",
   "metadata": {},
   "source": [
    "Firstly, we will import needed packages like ``numpy`` and of course ``pygpcca``:"
   ]
  },
  {
   "cell_type": "code",
   "execution_count": 1,
   "metadata": {},
   "outputs": [],
   "source": [
    "import numpy as np\n",
    "import pygpcca as gp"
   ]
  },
  {
   "cell_type": "markdown",
   "metadata": {},
   "source": [
    "Next, we define the aforementioned adjacency matrix *W* and calculate a row-stochastic (meaning that the rows of *P* each sum up to one) transition matrix *P* from it:"
   ]
  },
  {
   "cell_type": "code",
   "execution_count": 2,
   "metadata": {},
   "outputs": [
    {
     "name": "stdout",
     "output_type": "stream",
     "text": [
      "array([[0.82644628, 0.08264463, 0.08264463, 0.00826446, 0.        ,\n",
      "        0.        , 0.        , 0.        , 0.        ],\n",
      "       [0.08333333, 0.83333333, 0.08333333, 0.        , 0.        ,\n",
      "        0.        , 0.        , 0.        , 0.        ],\n",
      "       [0.08333333, 0.08333333, 0.83333333, 0.        , 0.        ,\n",
      "        0.        , 0.        , 0.        , 0.        ],\n",
      "       [0.00819672, 0.        , 0.        , 0.81967213, 0.08196721,\n",
      "        0.08196721, 0.00819672, 0.        , 0.        ],\n",
      "       [0.        , 0.        , 0.        , 0.08333333, 0.83333333,\n",
      "        0.08333333, 0.        , 0.        , 0.        ],\n",
      "       [0.        , 0.        , 0.        , 0.08333333, 0.08333333,\n",
      "        0.83333333, 0.        , 0.        , 0.        ],\n",
      "       [0.        , 0.        , 0.        , 0.00826446, 0.        ,\n",
      "        0.        , 0.82644628, 0.08264463, 0.08264463],\n",
      "       [0.        , 0.        , 0.        , 0.        , 0.        ,\n",
      "        0.        , 0.08333333, 0.83333333, 0.08333333],\n",
      "       [0.        , 0.        , 0.        , 0.        , 0.        ,\n",
      "        0.        , 0.08333333, 0.08333333, 0.83333333]])\n"
     ]
    }
   ],
   "source": [
    "# Choose zero pertubation mu of the adjacency matrix.\n",
    "mu = 0\n",
    "W = np.array(\n",
    "        [\n",
    "            [1000, 100, 100, 10, 0, 0, 0, 0, 0],\n",
    "            [100, 1000, 100, 0, 0, 0, 0, 0, 0],\n",
    "            [100, 100, 1000, 0, mu, 0, 0, 0, 0],\n",
    "            [10, 0, 0, 1000, 100, 100, 10, 0, 0],\n",
    "            [0, 0, mu, 100, 1000, 100, 0, 0, 0],\n",
    "            [0, 0, 0, 100, 100, 1000, 0, mu, 0],\n",
    "            [0, 0, 0, 10, 0, 0, 1000, 100, 100],\n",
    "            [0, 0, 0, 0, 0, mu, 100, 1000, 100],\n",
    "            [0, 0, 0, 0, 0, 0, 100, 100, 1000],\n",
    "        ],\n",
    "        dtype=np.float64,\n",
    "    )\n",
    "# Only make non-zero rows stochastic, otherwise we might divide by zero later.\n",
    "# (This is just a general precaution and not explicitly necessary in the special case considered here.)\n",
    "row = np.sum(W, axis=1) > 0.0001\n",
    "P = W.copy()\n",
    "W_ = W[row, :]\n",
    "# Calculate the transition matrix from W.\n",
    "P[row, :] = np.diag(1.0 / np.sum(W_, axis=1)) @ W_\n",
    "P"
   ]
  },
  {
   "cell_type": "markdown",
   "metadata": {},
   "source": [
    "Following this, we initialize a *GPCCA* object from the transition matrix *P*:"
   ]
  },
  {
   "cell_type": "code",
   "execution_count": 3,
   "metadata": {},
   "outputs": [],
   "source": [
    "gpcca = gp.GPCCA(P)"
   ]
  },
  {
   "cell_type": "markdown",
   "metadata": {},
   "source": [
    "Afterwards, we can get a list of *minChi* values for numbers of macrostates *m* in an interval *\\[2, 8\\]* to determine an interval\n",
    "*\\[m_min, m_max\\]* of (nearly) optimal numbers of macrostates for clustering:"
   ]
  },
  {
   "cell_type": "code",
   "execution_count": 5,
   "metadata": {},
   "outputs": [
    {
     "data": {
      "text/plain": [
       "[-2.220446049250313e-16,\n",
       " -3.4545621951634044e-16,\n",
       " -0.8336674986613027,\n",
       " -0.9933333388201755,\n",
       " -0.9081679698248197,\n",
       " -0.4168337493306544,\n",
       " -0.24719203433643516]"
      ]
     },
     "execution_count": 5,
     "metadata": {},
     "output_type": "execute_result"
    }
   ],
   "source": [
    "gpcca.minChi(2, 8)"
   ]
  },
  {
   "cell_type": "markdown",
   "metadata": {},
   "source": [
    "This might result in a warning:\n",
    "\n",
    "```\n",
    "UserWarning: The Schur vectors aren't D-orthogonal so they are D-orthogonalized.\n",
    "warnings.warn(\"The Schur vectors aren't D-orthogonal so they are D-orthogonalized.\")\n",
    "```\n",
    "  \n",
    "This is uncritical and has merely technical reasons."
   ]
  },
  {
   "cell_type": "markdown",
   "metadata": {},
   "source": [
    "The *minChi* citerion states that cluster numbers *m* (i.e. clustering into *m* clusters) with a *minChi* value close to zero will potentially result in a optimal (meaning especially *crisp* or sharp) clustering.\n",
    "Obviously, only *m*=3 qualifies as non-trivially (potentially) optimal, since *m*=2 is always (trivially) optimal."
   ]
  },
  {
   "cell_type": "markdown",
   "metadata": {},
   "source": [
    "Now, we would typically optimize the clustering for numbers of macrostates *m* in the previously determined interval *\\[m_min, m_max\\]* and find the optimal number of macrostates *n_metastable* in the given interval. Since this interval would here actually only span one number, i.e. \\[3\\], we will optimize the clustering for the whole interval of possible cluster numbers to see what happens: "
   ]
  },
  {
   "cell_type": "code",
   "execution_count": 6,
   "metadata": {},
   "outputs": [
    {
     "data": {
      "text/plain": [
       "<pygpcca._gpcca.GPCCA at 0x7fb143af9450>"
      ]
     },
     "execution_count": 6,
     "metadata": {},
     "output_type": "execute_result"
    }
   ],
   "source": [
    "gpcca.optimize({'m_min':2, 'm_max':8})"
   ]
  },
  {
   "cell_type": "markdown",
   "metadata": {},
   "source": [
    "The optimized *GPCCA* object is returned above and we can now access different properties of it."
   ]
  },
  {
   "cell_type": "markdown",
   "metadata": {},
   "source": [
    "The optimal number of macrostates *n_metastable* can be accessed via:"
   ]
  },
  {
   "cell_type": "code",
   "execution_count": 7,
   "metadata": {},
   "outputs": [
    {
     "data": {
      "text/plain": [
       "3"
      ]
     },
     "execution_count": 7,
     "metadata": {},
     "output_type": "execute_result"
    }
   ],
   "source": [
    "gpcca.n_metastable"
   ]
  },
  {
   "cell_type": "markdown",
   "metadata": {},
   "source": [
    "The optimal number of clusters or macrostates is *n_metastable*=3 as expected."
   ]
  },
  {
   "cell_type": "markdown",
   "metadata": {},
   "source": [
    "The optimal coarse-grained matrix can be accessed via:"
   ]
  },
  {
   "cell_type": "code",
   "execution_count": 8,
   "metadata": {},
   "outputs": [
    {
     "data": {
      "text/plain": [
       "array([[9.94827531e-01, 2.58623439e-03, 2.58623439e-03],\n",
       "       [2.59294034e-03, 9.97348758e-01, 5.83020119e-05],\n",
       "       [2.59294034e-03, 5.83020119e-05, 9.97348758e-01]])"
      ]
     },
     "execution_count": 8,
     "metadata": {},
     "output_type": "execute_result"
    }
   ],
   "source": [
    "gpcca.coarse_grained_transition_matrix"
   ]
  },
  {
   "cell_type": "markdown",
   "metadata": {},
   "source": [
    "The memberships are available via:"
   ]
  },
  {
   "cell_type": "code",
   "execution_count": 9,
   "metadata": {},
   "outputs": [
    {
     "data": {
      "text/plain": [
       "array([[3.11152841e-02, 6.99624142e-04, 9.68185092e-01],\n",
       "       [4.65713093e-16, 5.76285949e-16, 1.00000000e+00],\n",
       "       [1.61136004e-16, 6.92952765e-18, 1.00000000e+00],\n",
       "       [9.37930375e-01, 3.10348127e-02, 3.10348127e-02],\n",
       "       [1.00000000e+00, 7.80038068e-18, 4.55528202e-16],\n",
       "       [1.00000000e+00, 1.08953359e-15, 0.00000000e+00],\n",
       "       [3.11152841e-02, 9.68185092e-01, 6.99624142e-04],\n",
       "       [0.00000000e+00, 1.00000000e+00, 3.41183190e-16],\n",
       "       [4.47211372e-16, 1.00000000e+00, 5.01328432e-16]])"
      ]
     },
     "execution_count": 9,
     "metadata": {},
     "output_type": "execute_result"
    }
   ],
   "source": [
    "gpcca.memberships"
   ]
  },
  {
   "cell_type": "markdown",
   "metadata": {},
   "source": [
    "There are many more properties that can be accessed as you can see in the API documentation <a href=\"https://pygpcca.readthedocs.io/en/latest/api/pygpcca.GPCCA.html\" target=\"_blank\">here</a>."
   ]
  }
 ],
 "metadata": {
  "kernelspec": {
   "display_name": "Python 3",
   "language": "python",
   "name": "python3"
  },
  "language_info": {
   "codemirror_mode": {
    "name": "ipython",
    "version": 3
   },
   "file_extension": ".py",
   "mimetype": "text/x-python",
   "name": "python",
   "nbconvert_exporter": "python",
   "pygments_lexer": "ipython3",
   "version": "3.8.1"
  }
 },
 "nbformat": 4,
 "nbformat_minor": 4
}
