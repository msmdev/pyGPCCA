{
 "cells": [
  {
   "cell_type": "markdown",
   "metadata": {},
   "source": [
    "# Coarse-grain a simple transition matrix\n",
    "\n",
    "To illustrate the application of *pyGPCCA* we will coarse-grain a simple toy example transition matrix *P*. "
   ]
  },
  {
   "cell_type": "markdown",
   "metadata": {},
   "source": [
    "Firstly, we will import needed packages like ``numpy`` and of course ``pygpcca``:"
   ]
  },
  {
   "cell_type": "code",
   "execution_count": 1,
   "metadata": {},
   "outputs": [],
   "source": [
    "import matplotlib.pyplot as plt\n",
    "import numpy as np\n",
    "import pygpcca as gp"
   ]
  },
  {
   "cell_type": "markdown",
   "metadata": {},
   "source": [
    "Next, we define a simple row-stochastic (meaning that the rows of *P* each sum up to one) transition matrix *P* and plot it:"
   ]
  },
  {
   "cell_type": "code",
   "execution_count": 2,
   "metadata": {},
   "outputs": [
    {
     "data": {
      "image/png": "[encoded data removed]",
      "text/plain": [
       "<Figure size 432x288 with 2 Axes>"
      ]
     },
     "metadata": {
      "needs_background": "light"
     },
     "output_type": "display_data"
    }
   ],
   "source": [
    "P = np.array(\n",
    "    [\n",
    "    # 0.   1.   2.   3.   4.   5.   6.   7.   8.   9.   10.  11.   \n",
    "    [0.0, 0.8, 0.2, 0.0, 0.0, 0.0, 0.0, 0.0, 0.0, 0.0, 0.0, 0.0], #0\n",
    "    [0.2, 0.0, 0.6, 0.2, 0.0, 0.0, 0.0, 0.0, 0.0, 0.0, 0.0, 0.0], #1\n",
    "    [0.6, 0.2, 0.0, 0.2, 0.0, 0.0, 0.0, 0.0, 0.0, 0.0, 0.0, 0.0], #2\n",
    "    \n",
    "    [0.0, 0.05, 0.05, 0.0, 0.6, 0.3, 0.0, 0.0, 0.0, 0.0, 0.0, 0.0], #3\n",
    "    [0.0, 0.0, 0.0, 0.25, 0.0, 0.25, 0.4, 0.0, 0.0, 0.1, 0.0, 0.0], #4\n",
    "    [0.0, 0.0, 0.0, 0.25, 0.25, 0.0, 0.1, 0.0, 0.0, 0.4, 0.0, 0.0], #5\n",
    "    \n",
    "    [0.0, 0.0, 0.0, 0.0, 0.05, 0.05, 0.0, 0.7, 0.2, 0.0, 0.0, 0.0], #6\n",
    "    [0.0, 0.0, 0.0, 0.0, 0.0, 0.0, 0.2, 0.0, 0.8, 0.0, 0.0, 0.0], #7\n",
    "    [0.0, 0.0, 0.0, 0.0, 0.0, 0.0, 0.8, 0.2, 0.0, 0.0, 0.0, 0.0], #8\n",
    "    \n",
    "    [0.0, 0.0, 0.0, 0.0, 0.05, 0.05, 0.0, 0.0, 0.0, 0.0, 0.7, 0.2], #9\n",
    "    [0.0, 0.0, 0.0, 0.0, 0.0, 0.0, 0.0, 0.0, 0.0, 0.2, 0.0, 0.8], #10\n",
    "    [0.0, 0.0, 0.0, 0.0, 0.0, 0.0, 0.0, 0.0, 0.0, 0.8, 0.2, 0.0], #11\n",
    "    ],\n",
    "    dtype=np.float64,\n",
    ")\n",
    "\n",
    "# plot the matrix P:\n",
    "fig, ax = plt.subplots()\n",
    "c = ax.imshow(P)\n",
    "plt.xticks(np.arange(P.shape[1]))\n",
    "plt.yticks(np.arange(P.shape[0]))\n",
    "plt.ylim(-0.5, P.shape[0]-0.5)\n",
    "fig.colorbar(c)\n",
    "plt.show()"
   ]
  },
  {
   "cell_type": "markdown",
   "metadata": {},
   "source": [
    "Following this, we initialize a *GPCCA* object from the transition matrix *P*:"
   ]
  },
  {
   "cell_type": "code",
   "execution_count": 3,
   "metadata": {},
   "outputs": [],
   "source": [
    "gpcca = gp.GPCCA(P)"
   ]
  },
  {
   "cell_type": "markdown",
   "metadata": {},
   "source": [
    "Afterwards, we can get a list of *minChi* values for numbers of macrostates *m* in an interval *\\[2, 11\\]* to determine an interval\n",
    "*\\[m_min, m_max\\]* of (nearly) optimal numbers of macrostates for clustering:"
   ]
  },
  {
   "cell_type": "code",
   "execution_count": 5,
   "metadata": {
    "scrolled": true
   },
   "outputs": [
    {
     "data": {
      "text/plain": [
       "[-1.6653345369377348e-16,\n",
       " -2.255418698866725e-16,\n",
       " -0.050736153733740706,\n",
       " -0.9751842166465493,\n",
       " -0.9751842166465485,\n",
       " -0.8177242150254587,\n",
       " -0.33604479452159325,\n",
       " -0.297303618630627,\n",
       " -0.2910404757551534,\n",
       " -0.42902208201892694]"
      ]
     },
     "execution_count": 5,
     "metadata": {},
     "output_type": "execute_result"
    }
   ],
   "source": [
    "gpcca.minChi(2, 11)"
   ]
  },
  {
   "cell_type": "markdown",
   "metadata": {},
   "source": [
    "This might result in a warning:\n",
    "\n",
    "```\n",
    "/home/breuter/g-pcca/pyGPCCA/pygpcca/_sort_real_schur.py:106: ComplexWarning: Casting complex values to real discards the imaginary part\n",
    "  p[k] = R[sk, sk] + np.lib.scimath.sqrt(R[sk + 1, sk] * R[sk, sk + 1])  # store the eigenvalues\n",
    "```\n",
    "  \n",
    "This is uncritical and has merely technical reasons."
   ]
  },
  {
   "cell_type": "markdown",
   "metadata": {},
   "source": [
    "The *minChi* citerion states that cluster numbers *m* (i.e. clustering into *m* clusters) with a *minChi* value close to zero will potentially result in a optimal (meaning especially *crisp* or sharp) clustering.\n",
    "Obviously, *m*=3 qualifies as non-trivially (potentially) optimal, since *m*=2 is always (trivially) optimal.\n",
    "Futher *m*=4 might also qualify as a good cluster number, since the associated *minChi* value is also quite close to zero."
   ]
  },
  {
   "cell_type": "markdown",
   "metadata": {},
   "source": [
    "Now, we optimize the clustering for numbers of macrostates *m* in the previously determined interval *\\[m_min, m_max\\]* and find the optimal number of macrostates *n_metastable* in the given interval: "
   ]
  },
  {
   "cell_type": "code",
   "execution_count": 6,
   "metadata": {},
   "outputs": [
    {
     "data": {
      "text/plain": [
       "GPCCA[n=12, n_metastable=3]"
      ]
     },
     "execution_count": 6,
     "metadata": {},
     "output_type": "execute_result"
    }
   ],
   "source": [
    "gpcca.optimize({'m_min':2, 'm_max':4})"
   ]
  },
  {
   "cell_type": "markdown",
   "metadata": {},
   "source": [
    "The optimized *GPCCA* object is returned above and we can now access different properties of it."
   ]
  },
  {
   "cell_type": "markdown",
   "metadata": {},
   "source": [
    "The optimal number of macrostates *n_metastable* can be accessed via:"
   ]
  },
  {
   "cell_type": "code",
   "execution_count": 7,
   "metadata": {},
   "outputs": [
    {
     "data": {
      "text/plain": [
       "3"
      ]
     },
     "execution_count": 7,
     "metadata": {},
     "output_type": "execute_result"
    }
   ],
   "source": [
    "gpcca.n_metastable"
   ]
  },
  {
   "cell_type": "markdown",
   "metadata": {},
   "source": [
    "The optimal number of clusters or macrostates is *n_metastable*=3 as expected."
   ]
  },
  {
   "cell_type": "markdown",
   "metadata": {},
   "source": [
    "The optimal coarse-grained matrix can be accessed via:"
   ]
  },
  {
   "cell_type": "code",
   "execution_count": 8,
   "metadata": {},
   "outputs": [
    {
     "data": {
      "image/png": "[encoded data removed]",
      "text/plain": [
       "<Figure size 432x288 with 2 Axes>"
      ]
     },
     "metadata": {
      "needs_background": "light"
     },
     "output_type": "display_data"
    },
    {
     "data": {
      "text/plain": [
       "array([[0.88647796, 0.04980224, 0.0637198 ],\n",
       "       [0.00243516, 0.98097945, 0.01658538],\n",
       "       [0.00243516, 0.01543652, 0.98212831]])"
      ]
     },
     "execution_count": 8,
     "metadata": {},
     "output_type": "execute_result"
    }
   ],
   "source": [
    "P_c = gpcca.coarse_grained_transition_matrix\n",
    "# plot P_c:\n",
    "fig, ax = plt.subplots()\n",
    "c = ax.imshow(P_c)\n",
    "plt.xticks(np.arange(P_c.shape[1]))\n",
    "plt.yticks(np.arange(P_c.shape[0]))\n",
    "plt.ylim(-0.5, P_c.shape[0]-0.5)\n",
    "fig.colorbar(c)\n",
    "plt.show()\n",
    "# show P_c matrix:\n",
    "P_c"
   ]
  },
  {
   "cell_type": "markdown",
   "metadata": {},
   "source": [
    "The memberships are available via:"
   ]
  },
  {
   "cell_type": "code",
   "execution_count": 9,
   "metadata": {},
   "outputs": [
    {
     "data": {
      "image/png": "[encoded data removed]",
      "text/plain": [
       "<Figure size 432x288 with 2 Axes>"
      ]
     },
     "metadata": {
      "needs_background": "light"
     },
     "output_type": "display_data"
    },
    {
     "data": {
      "text/plain": [
       "array([[1.00000000e+00, 0.00000000e+00, 8.44548736e-18],\n",
       "       [8.80009662e-01, 5.26338400e-02, 6.73564979e-02],\n",
       "       [9.12351139e-01, 3.84758290e-02, 4.91730323e-02],\n",
       "       [1.64953404e-01, 3.67067094e-01, 4.67979502e-01],\n",
       "       [6.51588802e-02, 3.35927186e-01, 5.98913934e-01],\n",
       "       [6.51588802e-02, 5.64708356e-01, 3.70132763e-01],\n",
       "       [5.02066367e-03, 3.27724659e-02, 9.62206870e-01],\n",
       "       [1.27462550e-16, 1.83492669e-16, 1.00000000e+00],\n",
       "       [1.78878958e-03, 1.11025375e-02, 9.87108673e-01],\n",
       "       [5.02066367e-03, 9.59750248e-01, 3.52290885e-02],\n",
       "       [0.00000000e+00, 1.00000000e+00, 2.42354345e-17],\n",
       "       [1.78878958e-03, 9.86286754e-01, 1.19244563e-02]])"
      ]
     },
     "execution_count": 9,
     "metadata": {},
     "output_type": "execute_result"
    }
   ],
   "source": [
    "chi = gpcca.memberships\n",
    "# plot chi:\n",
    "fig, ax = plt.subplots()\n",
    "c = ax.imshow(chi)\n",
    "plt.xticks(np.arange(chi.shape[1]))\n",
    "plt.yticks(np.arange(chi.shape[0]))\n",
    "plt.ylim(-0.5, chi.shape[0]-0.5)\n",
    "fig.colorbar(c)\n",
    "plt.show()\n",
    "# show chi matrix:\n",
    "chi"
   ]
  },
  {
   "cell_type": "markdown",
   "metadata": {},
   "source": [
    "There are many more properties that can be accessed as you can see in the API documentation <a href=\"https://pygpcca.readthedocs.io/en/latest/api/pygpcca.GPCCA.html\" target=\"_blank\">here</a>."
   ]
  }
 ],
 "metadata": {
  "kernelspec": {
   "display_name": "Python 3",
   "language": "python",
   "name": "python3"
  },
  "language_info": {
   "codemirror_mode": {
    "name": "ipython",
    "version": 3
   },
   "file_extension": ".py",
   "mimetype": "text/x-python",
   "name": "python",
   "nbconvert_exporter": "python",
   "pygments_lexer": "ipython3",
   "version": "3.7.4"
  }
 },
 "nbformat": 4,
 "nbformat_minor": 4
}
